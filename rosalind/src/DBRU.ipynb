{
 "cells": [
  {
   "cell_type": "code",
   "execution_count": 32,
   "metadata": {},
   "outputs": [],
   "source": [
    "baseComplement = { 'A' : 'T', 'C' : 'G', 'G' : 'C', 'T' : 'A' }\n",
    "\n",
    "def revc(seq):\n",
    "    return \"\".join([baseComplement[base] for base in seq[::-1]])\n",
    "\n",
    "class SetDictionary(dict):\n",
    "    def __missing__(self, key):\n",
    "        return set()\n",
    "    \n",
    "    def insert(self, key, val):\n",
    "        s = graph[key]\n",
    "        s.add(val)\n",
    "        graph[key] = s\n",
    "        \n",
    "graph = SetDictionary()\n",
    "\n",
    "with open('data/rosalind_dbru.txt') as spec:\n",
    "    for seq in (raw.strip() for raw in spec):\n",
    "        k = len(seq)-1\n",
    "        graph.insert(seq[0:k], seq[1:k+1])\n",
    "        revseq = revc(seq)\n",
    "        graph.insert(revseq[0:k], revseq[1:k+1])\n",
    "\n",
    "with open('data/rosalind_dbru.out', 'w') as result:\n",
    "    for key in graph:\n",
    "        for val in graph[key]:\n",
    "            result.write(f\"({key}, {val})\\n\")\n"
   ]
  },
  {
   "cell_type": "code",
   "execution_count": null,
   "metadata": {},
   "outputs": [],
   "source": []
  }
 ],
 "metadata": {
  "kernelspec": {
   "display_name": "Python 3",
   "language": "python",
   "name": "python3"
  },
  "language_info": {
   "codemirror_mode": {
    "name": "ipython",
    "version": 3
   },
   "file_extension": ".py",
   "mimetype": "text/x-python",
   "name": "python",
   "nbconvert_exporter": "python",
   "pygments_lexer": "ipython3",
   "version": "3.8.4"
  }
 },
 "nbformat": 4,
 "nbformat_minor": 4
}

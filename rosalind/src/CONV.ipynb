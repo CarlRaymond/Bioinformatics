{
 "cells": [
  {
   "cell_type": "code",
   "execution_count": 14,
   "metadata": {},
   "outputs": [],
   "source": [
    "import operator\n",
    "\n",
    "tolerance = 0.00001\n",
    "\n",
    "set1 = {}\n",
    "set2 = {}\n",
    "with open(\"data/rosalind_conv.txt\") as spec:\n",
    "    for s in spec.readline().strip().split(' '):\n",
    "        f = float(s)\n",
    "        set1[f] = set1.get(f, 0)+1\n",
    "    for s in spec.readline().strip().split(' '):\n",
    "        f = float(s)\n",
    "        set2[f] = set2.get(f, 0)+1\n",
    "\n",
    "#print(set1)\n",
    "#print(set2)\n",
    "\n",
    "sum = {}\n",
    "for v in (round(a-b, 5) for a in set1 for b in set2):\n",
    "    sum[v] = sum.get(v, 0)+1\n",
    "        \n",
    "#print(sum)\n"
   ]
  },
  {
   "cell_type": "code",
   "execution_count": 15,
   "metadata": {},
   "outputs": [
    {
     "data": {
      "text/plain": [
       "(1715.75436, 19)"
      ]
     },
     "execution_count": 15,
     "metadata": {},
     "output_type": "execute_result"
    }
   ],
   "source": [
    "max(sum.items(), key=operator.itemgetter(1))"
   ]
  },
  {
   "cell_type": "code",
   "execution_count": null,
   "metadata": {},
   "outputs": [],
   "source": []
  }
 ],
 "metadata": {
  "kernelspec": {
   "display_name": "Python 3",
   "language": "python",
   "name": "python3"
  },
  "language_info": {
   "codemirror_mode": {
    "name": "ipython",
    "version": 3
   },
   "file_extension": ".py",
   "mimetype": "text/x-python",
   "name": "python",
   "nbconvert_exporter": "python",
   "pygments_lexer": "ipython3",
   "version": "3.8.4"
  }
 },
 "nbformat": 4,
 "nbformat_minor": 4
}

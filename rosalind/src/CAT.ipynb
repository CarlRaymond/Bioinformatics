{
 "cells": [
  {
   "cell_type": "code",
   "execution_count": 7,
   "metadata": {},
   "outputs": [
    {
     "name": "stdout",
     "output_type": "stream",
     "text": [
      "Counts:  {'A': 62, 'C': 76, 'G': 76, 'U': 62}\n",
      "GGAUUAACCGGCGUGUACGCAGCGUAGCCUGCCGAUCCGGAUGCAUGCAUAUUAAAAUUUGAUCCUUGCAGAUCAUUUGCAUUAAAGCAGUUGCCUACGGUAUAAAGCCGCUUGCAUGCGCGCCCGGGGCCAAUUGGUAUACUAUCGACUAUGCACGAUCGUAACCCGGGGCGCAUUUUCGGCGCAAGGCCCAAUUGACGUUAAAUGCGCGGCCUGCAUAUAUAGCAGUUAACGCCACUAUCGAGGCUGCGCCGGGCCGCGCAUGCGCGCGCGCAU\n",
      "2689978879677517383697408\n",
      "Cache size:  36488\n",
      "Cache hits:  1585206\n"
     ]
    }
   ],
   "source": [
    "'''\n",
    "Created Nov. 27, 2015\n",
    "@author Carl J. Raymond\n",
    "'''\n",
    "\n",
    "from fasta import read\n",
    "\n",
    "baseComp = {\n",
    "\t'A' : 'U',\n",
    "\t'C' : 'G',\n",
    "\t'G' : 'C',\n",
    "\t'U' : 'A'\n",
    "}\n",
    "\n",
    "# The cache stores computed values of perfectMatchCount, using a key which is\n",
    "# a tuple (start, stop).\n",
    "cache = { }\n",
    "cacheHits = 0\n",
    "\n",
    "# Computes the number of perfect matchings in seq from position start (incl.)\n",
    "# to stop (excl.) Uses a cache for much more fastness.\n",
    "def perfectMatchCount(seq, start, stop):\n",
    "\tglobal cacheHits\n",
    "\t\n",
    "\t# Check the cache\n",
    "\tif (start, stop) in cache:\n",
    "\t\tcacheHits += 1\n",
    "\t\treturn cache[(start, stop)]\n",
    "\t\n",
    "\t# An empty interval has a single match consisting of no edges.\n",
    "\tif start >= stop:\n",
    "\t\treturn 1\n",
    "\n",
    "\t# Count matchings by using the start position as the anchor, iterating all\n",
    "\t# possible matching edges between the anchor and its complements, and recursively\n",
    "\t# computing the possible matchings on either side of the edge. Sum the result\n",
    "\t# over all choices of the matching edge.\n",
    "\tanchor = seq[start]\n",
    "\tsum = 0\n",
    "\n",
    "\t# Match anchor will all possible complements in the interval\n",
    "\tfor matchPos in [k for k in range(start, stop) if seq[k] == baseComp[anchor]]:\n",
    "\t\t# Count matchings of subgraphs on either side of the edge (start, matchPos)\n",
    "\t\tleft = perfectMatchCount(seq, start+1, matchPos)\n",
    "\t\tright = perfectMatchCount(seq, matchPos+1, stop)\n",
    "\t\tsum += left * right\n",
    "\t\n",
    "\t# Cache the result\n",
    "\tcache[(start, stop)] = sum\n",
    "\t\n",
    "\treturn sum\n",
    "\n",
    "\n",
    "with open(\"data/rosalind_cat.txt\") as spec:\n",
    "    name,seq = read(spec).__next__()\n",
    "\n",
    "# Verify that count of A matches count of U, and likewise for C and G.\n",
    "counts = { 'A': 0, 'C': 0, 'G': 0, 'U': 0 }\n",
    "for b in seq:\n",
    "\tcounts[b] += 1\n",
    "print (\"Counts: \", counts)\n",
    "\n",
    "print (seq)\n",
    "print (perfectMatchCount(seq, 0, len(seq)))\n",
    "\n",
    "print (\"Cache size: \", len(cache))\n",
    "print (\"Cache hits: \", cacheHits)"
   ]
  },
  {
   "cell_type": "code",
   "execution_count": null,
   "metadata": {},
   "outputs": [],
   "source": []
  }
 ],
 "metadata": {
  "kernelspec": {
   "display_name": "Python 3",
   "language": "python",
   "name": "python3"
  },
  "language_info": {
   "codemirror_mode": {
    "name": "ipython",
    "version": 3
   },
   "file_extension": ".py",
   "mimetype": "text/x-python",
   "name": "python",
   "nbconvert_exporter": "python",
   "pygments_lexer": "ipython3",
   "version": "3.7.4"
  }
 },
 "nbformat": 4,
 "nbformat_minor": 4
}

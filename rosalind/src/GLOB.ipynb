{
 "cells": [
  {
   "cell_type": "code",
   "execution_count": 12,
   "metadata": {},
   "outputs": [
    {
     "name": "stdout",
     "output_type": "stream",
     "text": [
      "S (length 781): YWCVICMYCNIYWGNTVRINCKQWYIMAFRYAGGGRVCLPKDNCGEFTWHDYQTIPFNHHNMWGQDCDMDKYLDALEHLVPRQWWTWDKLQNEQYIAPGDIELYPPWGDTEPDPLANKAMENCHTMIGWPPAKKQGKGTGTAKGSFRRTRKPQRDFHGMGQQTDSSFNVEFSTANISSRAHNMIFINFIKGHMYSIYESNFCQKMEMPGFDDQMQGTERNPFHKMYIAHSMSQVDELIDNSQFVSIEPIFSAGAEWHWSMWTSKSCYVPMEVTGTQVHIGQNESWDAAKSPTIGRRAFTPVRPMQEQWSPHQKTSWFNYRMGITFPQPWNSFCAWKSAYVFTSEIMGTFYNLFSKDRSYFRPCGFNRFIGFEEFSSEEPIPDPTEPISSAVVLTGFFFGLCGLTCCMLTWWSNPCVPSCWYPSKIMPILCWYIPTWQHSNHHRFPCAHMYEQGRSLYDDPNFMQFAAAHAMRCVMQDAWRMVYKFGKTHLALAPYNRSTTPQLEYGMELDGPKFRHYGVKAYMLWSILCRWNGEFGNEAAGVPEVKNMCDELSIITPMTCEFGSVHVCFMQADLFCWSPKFPTNNKAIGDRNFDLDPHHHQIRTRSSVVDAACSVWEGGMHTRTLTMMADTFSNSEPQINLPSEHKEAIAPGEGLMASQYSADHVMTSCFINEPYIDWTESRCRWSMARPQALANLTGLGGKKNETCHQCYMQNCFMPIAGTQPWQGFLRRRISINRADTNTKVEQQYIKMYRGSEFKHGFTHGVSKMNFYPNPVFEVDQT\n",
      "T (length 789): YWCALFCMYCNIYWGNTVRINCKPWYIMAFRAAGGKDYIEYRSYQTIPFNHHNMWGQDCDMDKVPRQGIWTWDKYCYNGFAELYPPGGDTEPDPLVTLWFFNKAMENCHTMIGWPPAKKQGKGTGTAKGSFRRGYQRAKGQQTDSSFNSSRAHNHMYSMEMPGFDDQMQTEWDPRNPFWKMWIAWGIDNHQFVSCEPIFSQGFEAHWSMWGSKSCYVPWMWEVTGTQVYNIGQNQIYKSHSWLAAKSPTIGRRAIHRICPVRPMQEQWSPHQKTPRCRIRWNNYRMSHYGVITFPQPWNLFAWKSAYVWPWCADASRTSEIMHYNAPGKTFYNLFCQEWNTFYKDRSYFRPIGFNREIGVEEFSSCEPIPDPYTWWSTPCVPSKKAPWYPSKIMPILDWDIPTWFHTHREHSNHHRFPMTMYICFAHMYEQGRSLYDDPNFMQFAATHAMRCVMQDAWMMVYAVQGIYHHFGKTHLALAPYNRCTTPQLWINLGMELDGPCDDWLWFRHYGVSRLWHILCRWNGEFTNEAAGVPEVKNMCDELSIITPMTCEFGSIGETHVCFMQAIVGCRKVLFCWSPKFPVWNRDQNDYRNPHHHQIRTRSSVVNAANYPMTNDVVWEDGADVNSSPQINLPSEHKAAIAPGEGLMADHVMTCFTEDNMVYNEPYIDWQMSFCRWSSGGGLHPTARPQAAWDNANLRGMHKQQECFDGGKANETCHQEYPAHDQFMPMAGTTPWQGQLRLGQDWWLRRRISINRNTKKHFEFQYIHLMRHSPVFPVSKYKPNVVYQT\n",
      "Edit distance: 1893\n",
      "Number of optimal alignments: 33177600\n",
      "Mod counts: 33177600\n",
      "YWCVI-CMYCNIYWGNTVRINCKQWYIMAFRYAGGGRVCLPKDNCGEFTWHDYQTIPFNHHNMWGQDCDMDKYLDALEHLVPRQW-WTWDKLQNEQYIAPGDIELYPPWGDTEPDPL-A----NKAMENCHTMIGWPPAKKQGKGTGTAKGSFRRTRKPQRDFHGMGQQTDSSFNVEFSTANISSRAHNMIFINFIKGHMYSIYESNFCQKMEMPGFDDQMQGTE---RNPFHKMYIAHSMSQVDELIDNSQFVSIEPIFSAGAEWHWSMWTSKSCYVP-M-EVTGTQVH-IGQNE-----SWDAAKSPTIGRRA---FTPVRPMQEQWSPHQKT-----SWFNYRM---G-ITFPQPWNSFCAWKSAYV--F------TSEIM-----G-TFYNLF-----S--KDRSYFRPCGFNRFIGFEEFSSEEPIPDPTEPISSAVVLTGFFFGLCGLTCCMLTWWSNPCVPS--C-WYPSKIMPILCWYIPTW-----QHSNHHRFP-----C-AHMYEQGRSLYDDPNFMQFAAAHAMRCVMQDAWRMVY--K-----FGKTHLALAPYNRSTTPQL--EYGMELDGP--K---FRHYGVKAYMLWSILCRWNGEFGNEAAGVPEVKNMCDELSIITPMTCEFGSV---HVCFMQA-----D-LFCWSPKFPTNNKAIGDRNFDL-DPHHHQIRTRSSVVDAACSVWEGGMHTRTLTMMADTFS-NSEPQINLPSEHKEAIAPGEGLMASQYSADHVMTSCFINEPYIDWTESRCRW-S---M---ARPQAL---ANLTGL--------GGKKNETCHQCY-MQNCFMPIAGTQPW--Q---G---FLRRRISINRADTNTKVEQQYIKMYRGSEFKHGFTHGVSKMNFYPNPVFEVDQT\n",
      "YWCALFCMYCNIYWGNTVRINCKPWYIMAFR-AAGG-----KDYI-EY--RSYQTIPFNHHNMWGQDCDMDK--------VPRQGIWTWDK-----YCYNGFAELYPPGGDTEPDPLVTLWFFNKAMENCHTMIGWPPAKKQGKGTGTAKGSFRR-GY-QR---AKGQQTDSS----F---N-SSRAH-----N----HM---Y-S-----MEMPGFDDQMQ-TEWDPRNPFWKMWIA--WG-----IDNHQFVSCEPIFSQGFEAHWSMWGSKSCYVPWMWEVTGTQVYNIGQNQIYKSHSWLAAKSPTIGRRAIHRICPVRPMQEQWSPHQKTPRCRIRWNNYRMSHYGVITFPQPWNLF-AWKSAYVWPWCADASRTSEIMHYNAPGKTFYNLFCQEWNTFYKDRSYFRPIGFNREIGVEEFSSCEPIPD---P-----------Y----------TWWSTPCVPSKKAPWYPSKIMPILDWDIPTWFHTHREHSNHHRFPMTMYICFAHMYEQGRSLYDDPNFMQFAATHAMRCVMQDAWMMVYAVQGIYHHFGKTHLALAPYNRCTTPQLWINLGMELDGPCDDWLWFRHYGV-S-RLWHILCRWNGEFTNEAAGVPEVKNMCDELSIITPMTCEFGSIGETHVCFMQAIVGCRKVLFCWSPKFPVWNR---DQN-DYRNPHHHQIRTRSSVVNAA-N-YP--M-TNDV-VWEDGADVNSSPQINLPSEHKAAIAPGEGLMADHVMTCFTEDNMVYNEPYIDWQMSFCRWSSGGGLHPTARPQAAWDNANLRGMHKQQECFDGGKANETCHQEYPAHDQFMPMAGTTPWQGQLRLGQDWWLRRRISINR-NTKKHFEFQYIHLMRHSPV---FP--VSK--YKPN-V--VYQT\n",
      "     *                         *    *****    *  **                      ********     *     *****                     * ****                                *  *  ***         **** *** *     ***** ****  *** * *****           *  ***          **  *****                                * *        *     *****              ***                 *****       *** *          *       ** ******     ***** *      ***** **                            *** *********** **********          ** *                 *****         ***** *                                     ** *****                   **         ** ***      * *                                           ***       ***** *             ***   *  *                 * *  ** *    *       *                                                    * *** ***      ***      ********            *              ** *** ***          *                   ***  **   **    * **    \n"
     ]
    }
   ],
   "source": [
    "'''\n",
    "Created on Aug. 16 2020\n",
    "@author: Carl J. Raymond\n",
    "'''\n",
    "\n",
    "# Solves GLOB. Modified from CTEA\n",
    "\n",
    "from scoring.blosum62 import BLOSUM62\n",
    "bl62 = BLOSUM62()\n",
    "from fasta import read\n",
    "from enum import Flag, auto\n",
    "\n",
    "class EditOp(Flag):\n",
    "    MATCH = auto()\n",
    "    SUBST = auto()\n",
    "    GAP_S = auto()\n",
    "    GAP_T = auto()\n",
    "    \n",
    "    #def __repr__(self):\n",
    "    #    return '<%s>' % self.name\n",
    "    \n",
    "with open(\"data/rosalind_glob.txt\") as spec:\n",
    "    data_s, data_t = read(spec)\n",
    "\n",
    "_, S = data_s\n",
    "#S = \"PLEASANTLY\"\n",
    "#S = \"MEANLY\"\n",
    "len_s = len(S)\n",
    "_, T = data_t    \n",
    "#T = \"MEANLY\"\n",
    "#T = \"PLEASANTLY\"\n",
    "len_t = len(T)\n",
    "print(f\"S (length {len_s}): {S}\")\n",
    "print(f\"T (length {len_t}): {T}\")\n",
    "\n",
    "cost_gap_S = -5\n",
    "cost_gap_T = -5\n",
    "\n",
    "\n",
    "# Allocate and initialize the cost/count matrix. Each cell is a tuple:\n",
    "# (cost, best choice EditOps, number of optimal alignments)\n",
    "# with the best cost at this point, and one or more EditOps giving that cost,\n",
    "# and the number of optimal alignments of that cost at this point.\n",
    "# The EditOp token MATCH means that the characters matched; SUBST\n",
    "# means they didn't match, and the choice is to substitute; GAP_S means that a\n",
    "# position in S was skipped; GAP_T means a postion in T was skipped.\n",
    "# Cost[0][j] = (j,EditOp.GAP_T,1) for all j and cost[i][0] = (i,EditOp.GAP_S,1)\n",
    "# for all i.\n",
    "\n",
    "# Work row-by-row, computing each position in the current row by looking\n",
    "# at the current row's previous position and the previous row.\n",
    "\n",
    "# Create first row of cost matrix - gap in S, consume in T.\n",
    "thisrow = [ (i*cost_gap_T, EditOp.MATCH if i==0 else EditOp.GAP_T, 1) for i in range(len_s+1)]\n",
    "cost = [ thisrow ]\n",
    "\n",
    "# Create each new row, referring to the previous row, and append to the cost matrix\n",
    "for j in range(len_t):\n",
    "    lastrow = thisrow\n",
    "    thisrow = [ ((j+1)*cost_gap_S, EditOp.GAP_S, 1) ]\n",
    "    for i in range(len_s):\n",
    "        \n",
    "        prev_score = lastrow[i][0]\n",
    "        prev_counts = lastrow[i][2]\n",
    "        op = (prev_score + bl62.score(S[i], T[j]), EditOp.MATCH, prev_counts)\n",
    "            \n",
    "        # Compare other operations. Accumulate\n",
    "        # all possibilities that have the same minimum cost.\n",
    "        \n",
    "        # Gap in S, consume in T\n",
    "        gap_s = lastrow[i+1][0] + cost_gap_S\n",
    "        if gap_s > op[0]:\n",
    "            # Best so far\n",
    "            op = (gap_s, EditOp.GAP_S, lastrow[i+1][2])\n",
    "        elif gap_s == op[0]:\n",
    "            # Same score as current best. Accumulate EditOp.\n",
    "            op = (op[0], op[1] | EditOp.GAP_S, op[2]+lastrow[i+1][2])\n",
    "            \n",
    "        # Gap in T, consume in S\n",
    "        gap_t = thisrow[i][0] + cost_gap_T\n",
    "        if gap_t > op[0]:\n",
    "            # Best so far\n",
    "            op = (gap_t, EditOp.GAP_T, thisrow[i][2])\n",
    "        elif gap_t == op[0]:\n",
    "            # Same score as current best. Accumulate EditOp.\n",
    "            op = (op[0], op[1] | EditOp.GAP_T, op[2]+thisrow[i][2])\n",
    "\n",
    "        thisrow.append(op)\n",
    "\n",
    "    cost.append(thisrow)\n",
    "\n",
    "#for row in cost:\n",
    "#    for k in row:\n",
    "#        print(f\"({k[0]}, {k[1]})\", end='')\n",
    "#    print()\n",
    "\n",
    "# The final edit cost is down in the corner\n",
    "dist = cost[len_t][len_s][0]\n",
    "print(f\"Edit distance: {dist}\")\n",
    "\n",
    "optimalcount = cost[len_t][len_s][2]\n",
    "print(f\"Number of optimal alignments: {optimalcount}\")\n",
    "print(f\"Mod counts: {optimalcount % 134217727}\")\n",
    "\n",
    "# Walk the cost matrix from the far corner back to the origin\n",
    "# recording a lowest cost alignment sequences in reverse. This\n",
    "# is one optimal alignment out of many.\n",
    "i, j = len_s, len_t\n",
    "revalign_s = []\n",
    "revalign_t = []\n",
    "revtrace = []\n",
    "while i>0 or j>0:\n",
    "\n",
    "    step = cost[j][i]\n",
    "    action = step[1]\n",
    "    tracechar = '*'\n",
    "    if action & (EditOp.MATCH | EditOp.SUBST):\n",
    "        # Consume in S and T.\n",
    "        i -= 1\n",
    "        revalign_s.append(S[i])\n",
    "        j -= 1\n",
    "        revalign_t.append(T[j])\n",
    "        if action & EditOp.MATCH:\n",
    "            tracechar = ' '\n",
    "            \n",
    "    elif action & EditOp.GAP_S:\n",
    "        # Gap in S, consume in T\n",
    "        revalign_s.append('-')\n",
    "        j -= 1\n",
    "        revalign_t.append(T[j])\n",
    "    elif action & EditOp.GAP_T:\n",
    "        # Gap in T, consume in S\n",
    "        i -= 1\n",
    "        revalign_s.append(S[i])\n",
    "        revalign_t.append('-')\n",
    "    \n",
    "    revtrace.append(tracechar)\n",
    "    \n",
    "align_s = \"\".join(revalign_s[::-1])\n",
    "align_t = \"\".join(revalign_t[::-1])\n",
    "trace = \"\".join(revtrace[::-1])\n",
    "\n",
    "print(align_s)\n",
    "print(align_t)\n",
    "#print(trace)\n",
    "with open(\"data/rosalind_glob.out\", \"w+\") as output:\n",
    "    output.write(f\"Optimal distance: {dist}\\n\")\n",
    "    output.write(f\"Number of optimal alignments: {optimalcount}\\n\")\n",
    "    output.write(f\"Modulo 2^27-1: {optimalcount % 13417727}\\n\")\n",
    "    output.write(\"{0}\\n\".format(align_s))\n",
    "    output.write(\"{0}\\n\".format(align_t))\n",
    "    output.write(\"{0}\\n\".format(trace))\n"
   ]
  },
  {
   "cell_type": "code",
   "execution_count": 9,
   "metadata": {},
   "outputs": [
    {
     "data": {
      "text/plain": [
       "-2"
      ]
     },
     "execution_count": 9,
     "metadata": {},
     "output_type": "execute_result"
    }
   ],
   "source": [
    "bl62.score('P', 'M')\n"
   ]
  },
  {
   "cell_type": "code",
   "execution_count": 10,
   "metadata": {},
   "outputs": [
    {
     "data": {
      "text/plain": [
       "2"
      ]
     },
     "execution_count": 10,
     "metadata": {},
     "output_type": "execute_result"
    }
   ],
   "source": [
    "bl62.score('L', 'M')"
   ]
  },
  {
   "cell_type": "code",
   "execution_count": null,
   "metadata": {},
   "outputs": [],
   "source": []
  }
 ],
 "metadata": {
  "kernelspec": {
   "display_name": "Python 3",
   "language": "python",
   "name": "python3"
  },
  "language_info": {
   "codemirror_mode": {
    "name": "ipython",
    "version": 3
   },
   "file_extension": ".py",
   "mimetype": "text/x-python",
   "name": "python",
   "nbconvert_exporter": "python",
   "pygments_lexer": "ipython3",
   "version": "3.8.4"
  }
 },
 "nbformat": 4,
 "nbformat_minor": 4
}

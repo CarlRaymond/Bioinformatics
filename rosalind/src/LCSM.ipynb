{
 "cells": [
  {
   "cell_type": "code",
   "execution_count": 1,
   "metadata": {},
   "outputs": [
    {
     "ename": "ModuleNotFoundError",
     "evalue": "No module named 'suffix_tree'",
     "output_type": "error",
     "traceback": [
      "\u001b[1;31m---------------------------------------------------------------------------\u001b[0m",
      "\u001b[1;31mModuleNotFoundError\u001b[0m                       Traceback (most recent call last)",
      "\u001b[1;32m<ipython-input-1-7054f08a9362>\u001b[0m in \u001b[0;36m<module>\u001b[1;34m\u001b[0m\n\u001b[0;32m      5\u001b[0m '''\n\u001b[0;32m      6\u001b[0m \u001b[1;33m\u001b[0m\u001b[0m\n\u001b[1;32m----> 7\u001b[1;33m \u001b[1;32mfrom\u001b[0m \u001b[0msuffix_tree\u001b[0m \u001b[1;32mimport\u001b[0m \u001b[0mGeneralisedSuffixTree\u001b[0m\u001b[1;33m\u001b[0m\u001b[1;33m\u001b[0m\u001b[0m\n\u001b[0m\u001b[0;32m      8\u001b[0m \u001b[1;33m\u001b[0m\u001b[0m\n\u001b[0;32m      9\u001b[0m \u001b[1;32mdef\u001b[0m \u001b[0mvalidateSubstring\u001b[0m\u001b[1;33m(\u001b[0m\u001b[0mstrings\u001b[0m\u001b[1;33m,\u001b[0m \u001b[0mseq\u001b[0m\u001b[1;33m)\u001b[0m\u001b[1;33m:\u001b[0m\u001b[1;33m\u001b[0m\u001b[1;33m\u001b[0m\u001b[0m\n",
      "\u001b[1;31mModuleNotFoundError\u001b[0m: No module named 'suffix_tree'"
     ]
    }
   ],
   "source": [
    "'''\n",
    "Created on Dec 15, 2012\n",
    "\n",
    "@author: carl\n",
    "'''\n",
    "\n",
    "from suffix_tree import GeneralisedSuffixTree\n",
    "\n",
    "def validateSubstring(strings, seq):\n",
    "    for s in strings:\n",
    "        if s.find(seq) == -1:\n",
    "            return False\n",
    "    return True\n",
    "\n",
    "    \n",
    "with open('rosalind_lcs.txt') as spec:\n",
    "    data = [seq.strip() for seq in spec]\n",
    "    \n",
    "    # The generalized suffix tree doesn't work well with a large number of strings.\n",
    "    # Use the first 10 to generate candidates, and then compare each candidate\n",
    "    # (in decreasing length order) to the data to find a common substring.\n",
    "    tree = GeneralisedSuffixTree(data[:10])\n",
    "    candidates = []\n",
    "    for shared in tree.sharedSubstrings(5):\n",
    "        for seq, start, stop in shared:\n",
    "            candidates.append(tree.sequences[seq][start:stop])\n",
    "            break\n",
    "    \n",
    "    candidates.sort(cmp=None, key=lambda s: len(s), reverse=True)\n",
    "    for c in candidates:\n",
    "        if validateSubstring(data, c):\n",
    "            print(c)\n",
    "            print(len(c))\n",
    "            break\n",
    "    else:\n",
    "        print(\"No common string found!\")\n",
    "        "
   ]
  },
  {
   "cell_type": "code",
   "execution_count": null,
   "metadata": {},
   "outputs": [],
   "source": []
  },
  {
   "cell_type": "code",
   "execution_count": null,
   "metadata": {},
   "outputs": [],
   "source": []
  }
 ],
 "metadata": {
  "kernelspec": {
   "display_name": "Python 3",
   "language": "python",
   "name": "python3"
  },
  "language_info": {
   "codemirror_mode": {
    "name": "ipython",
    "version": 3
   },
   "file_extension": ".py",
   "mimetype": "text/x-python",
   "name": "python",
   "nbconvert_exporter": "python",
   "pygments_lexer": "ipython3",
   "version": "3.8.4"
  }
 },
 "nbformat": 4,
 "nbformat_minor": 4
}

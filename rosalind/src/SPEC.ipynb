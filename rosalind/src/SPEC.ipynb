{
 "cells": [
  {
   "cell_type": "code",
   "execution_count": 3,
   "metadata": {},
   "outputs": [
    {
     "name": "stdout",
     "output_type": "stream",
     "text": [
      "[('G', 57.02146), ('A', 71.03711), ('S', 87.03203), ('P', 97.05276), ('V', 99.06841), ('T', 101.04768), ('C', 103.00919), ('I', 113.08406), ('L', 113.08406), ('N', 114.04293), ('D', 115.02694), ('Q', 128.05858), ('K', 128.09496), ('E', 129.04259), ('M', 131.04049), ('H', 137.05891), ('F', 147.06841), ('R', 156.10111), ('Y', 163.06333), ('W', 186.07931)]\n",
      "HKTYWIGPDCVMEPCGASVIEFPENISISHPWAEFYPTDITTVATIGGWDECDWWYKMEHYHAYMPESHFEADMGSQASQE\n"
     ]
    }
   ],
   "source": [
    "from itertools import takewhile\n",
    "\n",
    "mass = {\n",
    "    'A':  71.03711,\n",
    "    'C': 103.00919,\n",
    "    'D':  115.02694,\n",
    "    'E':  129.04259,\n",
    "    'F':  147.06841,\n",
    "    'G':  57.02146,\n",
    "    'H':  137.05891,\n",
    "    'I':  113.08406,\n",
    "    'K':  128.09496,\n",
    "    'L':  113.08406,\n",
    "    'M':  131.04049,\n",
    "    'N':  114.04293,\n",
    "    'P':  97.05276,\n",
    "    'Q':  128.05858,\n",
    "    'R':  156.10111,\n",
    "    'S':  87.03203,\n",
    "    'T':  101.04768,\n",
    "    'V':  99.06841,\n",
    "    'W':  186.07931,\n",
    "    'Y':  163.06333\n",
    "}\n",
    "\n",
    "def weightComp(tuple):\n",
    "    return tuple[1]\n",
    "\n",
    "tuples = [(key, mass[key]) for key in mass]\n",
    "orderedTable = sorted(tuples, key=weightComp)\n",
    "print(orderedTable)\n",
    "\n",
    "with open('data/rosalind_spec.txt') as spec:\n",
    "    prefixes = [float(f.strip()) for f in spec]\n",
    "    \n",
    "#print(prefixes)\n",
    "\n",
    "lastp = prefixes[0]\n",
    "prot = []\n",
    "for p in prefixes[1:]:\n",
    "    gap = p - lastp\n",
    "    gen = (key for (key,weight) in iter(orderedTable) if abs(weight-gap) < .01)\n",
    "    prot.append(next(gen))\n",
    "    lastp = p\n",
    "print(''.join(prot))"
   ]
  },
  {
   "cell_type": "code",
   "execution_count": null,
   "metadata": {},
   "outputs": [],
   "source": []
  },
  {
   "cell_type": "code",
   "execution_count": null,
   "metadata": {},
   "outputs": [],
   "source": []
  }
 ],
 "metadata": {
  "kernelspec": {
   "display_name": "Python 3",
   "language": "python",
   "name": "python3"
  },
  "language_info": {
   "codemirror_mode": {
    "name": "ipython",
    "version": 3
   },
   "file_extension": ".py",
   "mimetype": "text/x-python",
   "name": "python",
   "nbconvert_exporter": "python",
   "pygments_lexer": "ipython3",
   "version": "3.7.4"
  }
 },
 "nbformat": 4,
 "nbformat_minor": 4
}

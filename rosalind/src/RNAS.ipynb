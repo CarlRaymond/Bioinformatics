{
 "cells": [
  {
   "cell_type": "code",
   "execution_count": 50,
   "metadata": {},
   "outputs": [
    {
     "name": "stdout",
     "output_type": "stream",
     "text": [
      "Seq: UCAACUGUGUCACGCGCUUAUAUAAGAGAGUGUGGUUUAUCUAAGCAAUCUGGAAAAACAUAGAUGUCAGCUCCACGACGGAUUGCGACUCAAUUCACUGGUCUUACACUUAUGAGCUUCUGCUCCUAUUUGUCCCGACCGGGGUUGUACGUGACACAGCGUUCAUACGGGGAGCUAAAACCAGUCGAGUCGUUCAUGAU\n",
      "Perfect match count:  48674310291083016301722281551379316098112576401994\n",
      "Cache size:  18952\n",
      "Cache hits:  927055\n"
     ]
    }
   ],
   "source": [
    "'''\n",
    "Created June 25, 2020\n",
    "@author Carl J. Raymond\n",
    "'''\n",
    "\n",
    "# Base complements, including \"wobble\" base pair U-G\n",
    "baseComp = { 'A' : ['U'], 'C' : ['G'], 'G' : ['C', 'U'], 'U' : ['A', 'G'] }\n",
    "\n",
    "# The cache stores computed values of perfectMatchCount, using the sequence as key.\n",
    "cache = { }\n",
    "cacheHits = 0\n",
    "\n",
    "# Computes the number of perfect matchings in seq. Uses a cache for much more fastness.\n",
    "def perfectMatchCount(seq):\n",
    "\tglobal cacheHits\n",
    "\tglobal cache\n",
    "    \n",
    "\t# An empty sequence has a single match consisting of no edges.\n",
    "\tif not seq: return 1\n",
    "\n",
    "\t# Check the cache\n",
    "\tif (seq) in cache:\n",
    "\t\tcacheHits += 1\n",
    "\t\treturn cache[(seq)]\n",
    "\t\n",
    "\t# Count matchings by using position 0 as the anchor, iterating all\n",
    "\t# possible matching edges between the anchor and its complements, and recursively\n",
    "\t# computing the possible matchings on either side of the edge. Sum the result\n",
    "\t# over all choices of the matching edge.\n",
    "\tanchorBase = seq[0]\n",
    "\tmatchPositions = [k for k in range(4, len(seq)) if seq[k] in baseComp[anchorBase]]\n",
    "\n",
    "\t# Start by leaving the anchor unmatched, and match the remaining subsequence.\n",
    "\tsum = perfectMatchCount(seq[1:])\n",
    "\n",
    "    # Match anchor with all legal possibilities\n",
    "\tfor matchPos in matchPositions:\n",
    "        \n",
    "\t\t# Count matchings of subgraphs on either side of the current edge\n",
    "\t\tleft = perfectMatchCount(seq[1:matchPos])\n",
    "\t\tright = perfectMatchCount(seq[matchPos+1:])\n",
    "\t\tsum += left * right\n",
    "\t\n",
    "\t# Cache the result\n",
    "\tcache[seq] = sum\n",
    "\t\n",
    "\treturn sum\n",
    "\n",
    "\n",
    "with open(\"data/rosalind_rnas.txt\") as spec:\n",
    "    seq = spec.readline().strip()\n",
    "#seq = \"AUGCUAGUACGGAGCGAGUCUAGCGAGCGAUGUCGUGAGUACUAUAUAUGCGCAUAAGCCACGU\"\n",
    "#seq = \"AUGCUAGUACGGAGCGAGUCUAGCGAGCGAUGUCGUG\"\n",
    "#seq = \"CGAUGCUAG\"\n",
    "print(\"Seq:\", seq)\n",
    "\n",
    "print(\"Perfect match count: \", perfectMatchCount(seq))\n",
    "\n",
    "print(\"Cache size: \", len(cache))\n",
    "print(\"Cache hits: \", cacheHits)"
   ]
  },
  {
   "cell_type": "code",
   "execution_count": null,
   "metadata": {},
   "outputs": [],
   "source": []
  }
 ],
 "metadata": {
  "kernelspec": {
   "display_name": "Python 3",
   "language": "python",
   "name": "python3"
  },
  "language_info": {
   "codemirror_mode": {
    "name": "ipython",
    "version": 3
   },
   "file_extension": ".py",
   "mimetype": "text/x-python",
   "name": "python",
   "nbconvert_exporter": "python",
   "pygments_lexer": "ipython3",
   "version": "3.7.4"
  }
 },
 "nbformat": 4,
 "nbformat_minor": 4
}

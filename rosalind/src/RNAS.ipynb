{
 "cells": [
  {
   "cell_type": "code",
   "execution_count": 33,
   "metadata": {},
   "outputs": [
    {
     "name": "stdout",
     "output_type": "stream",
     "text": [
      "Seq: CGAUGCUAG\n",
      "Counts:  {'A': 2, 'C': 2, 'G': 3, 'U': 2}\n",
      "Perfect match count:  12\n",
      "Cache size:  8\n",
      "Cache hits:  0\n"
     ]
    }
   ],
   "source": [
    "'''\n",
    "Created June 25, 2020\n",
    "@author Carl J. Raymond\n",
    "'''\n",
    "\n",
    "from IPython.core.debugger import set_trace\n",
    "\n",
    "# Base complements, including \"wobble\" base pair U-G\n",
    "baseComp = {\n",
    "\t'A' : ['U'],\n",
    "\t'C' : ['G'],\n",
    "\t'G' : ['C', 'U'],\n",
    "\t'U' : ['A', 'G']\n",
    "}\n",
    "\n",
    "# The cache stores computed values of perfectMatchCount, using a key which is\n",
    "# a tuple (start, stop).\n",
    "cache = { }\n",
    "cacheHits = 0\n",
    "\n",
    "# Computes the number of perfect matchings in seq from position start (incl.)\n",
    "# to stop (excl.) Uses a cache for much more fastness.\n",
    "def perfectMatchCount(seq, start, stop):\n",
    "\tglobal cacheHits\n",
    "\t\n",
    "\t# Check the cache\n",
    "\tif (start, stop) in cache:\n",
    "\t\tcacheHits += 1\n",
    "\t\treturn cache[(start, stop)]\n",
    "\t\n",
    "\t# An empty interval has a single match consisting of no edges.\n",
    "\tif start+4 >= stop:\n",
    "\t\treturn 1\n",
    "\n",
    "\t# Count matchings by using the start position as the anchor, iterating all\n",
    "\t# possible matching edges between the anchor and its complements, and recursively\n",
    "\t# computing the possible matchings on either side of the edge. Sum the result\n",
    "\t# over all choices of the matching edge.\n",
    "\tanchor = seq[start]\n",
    "\tmatchPositions = [k for k in range(start+4, stop) if seq[k] in baseComp[anchor]]\n",
    "\n",
    "\t# Start by not matching the anchor with any other node\n",
    "\tsum = perfectMatchCount(seq, start+1, stop)\n",
    "\n",
    "\tfor matchPos in matchPositions:\n",
    "        \n",
    "\t\t# Count matchings of subgraphs on either side of the edge (start, matchPos)\n",
    "\t\tleft = perfectMatchCount(seq, start+1, matchPos)\n",
    "\t\tright = perfectMatchCount(seq, matchPos+1, stop)\n",
    "\t\tsum += left * right\n",
    "\t\n",
    "\t# Cache the result\n",
    "\tcache[(start, stop)] = sum\n",
    "\t\n",
    "\treturn sum\n",
    "\n",
    "\n",
    "#with open(\"data/rosalind_rnas.txt\") as spec:\n",
    "#    seq = spec.readline()\n",
    "#seq = \"AUGCUAGUACGGAGCGAGUCUAGCGAGCGAUGUCGUGAGUACUAUAUAUGCGCAUAAGCCACGU\"\n",
    "#seq = \"CGAUGCUAG\"\n",
    "print(\"Seq:\", seq)\n",
    "\n",
    "counts = { 'A': 0, 'C': 0, 'G': 0, 'U': 0 }\n",
    "for b in seq:\n",
    "    counts[b] += 1\n",
    "\n",
    "print(\"Counts: \", counts)\n",
    "print(\"Perfect match count: \", perfectMatchCount(seq, 0, len(seq)))\n",
    "\n",
    "print(\"Cache size: \", len(cache))\n",
    "print(\"Cache hits: \", cacheHits)"
   ]
  },
  {
   "cell_type": "code",
   "execution_count": null,
   "metadata": {},
   "outputs": [],
   "source": [
    "284850219977421"
   ]
  }
 ],
 "metadata": {
  "kernelspec": {
   "display_name": "Python 3",
   "language": "python",
   "name": "python3"
  },
  "language_info": {
   "codemirror_mode": {
    "name": "ipython",
    "version": 3
   },
   "file_extension": ".py",
   "mimetype": "text/x-python",
   "name": "python",
   "nbconvert_exporter": "python",
   "pygments_lexer": "ipython3",
   "version": "3.7.4"
  }
 },
 "nbformat": 4,
 "nbformat_minor": 4
}
